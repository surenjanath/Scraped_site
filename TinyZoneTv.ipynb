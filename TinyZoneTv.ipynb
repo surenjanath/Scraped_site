{
  "nbformat": 4,
  "nbformat_minor": 0,
  "metadata": {
    "colab": {
      "name": "ScrapingFreeMovieSite.ipynb",
      "provenance": [],
      "authorship_tag": "ABX9TyOL/ZqVxsryV/MZN3C3X/7H"
    },
    "kernelspec": {
      "name": "python3",
      "display_name": "Python 3"
    },
    "language_info": {
      "name": "python"
    }
  },
  "cells": [
    {
      "cell_type": "code",
      "metadata": {
        "id": "VdsQJwUAnv5k"
      },
      "source": [
        "import requests\n",
        "from bs4 import BeautifulSoup as bs\n",
        "import pandas as pd"
      ],
      "execution_count": null,
      "outputs": []
    },
    {
      "cell_type": "code",
      "metadata": {
        "id": "IiUfaGTwn182"
      },
      "source": [
        "main = 'https://tinyzonetv.to'\n",
        "movie_url = 'https://tinyzonetv.to/movie'\n",
        "MOVIES = []\n",
        "\n",
        "\n"
      ],
      "execution_count": null,
      "outputs": []
    },
    {
      "cell_type": "markdown",
      "metadata": {
        "id": "xbWI9dEMK3IX"
      },
      "source": [
        ""
      ]
    },
    {
      "cell_type": "code",
      "metadata": {
        "id": "ExqkR3KfK3SY"
      },
      "source": [
        "r = requests.get(main)"
      ],
      "execution_count": null,
      "outputs": []
    },
    {
      "cell_type": "code",
      "metadata": {
        "colab": {
          "base_uri": "https://localhost:8080/"
        },
        "id": "s9gYyQQBK8MQ",
        "outputId": "bf4655f3-e736-42d7-f1ab-537c44fa8288"
      },
      "source": [
        "r.status_code"
      ],
      "execution_count": 107,
      "outputs": [
        {
          "output_type": "execute_result",
          "data": {
            "text/plain": [
              "522"
            ]
          },
          "metadata": {
            "tags": []
          },
          "execution_count": 107
        }
      ]
    },
    {
      "cell_type": "code",
      "metadata": {
        "id": "EfeLM5aYq0-d"
      },
      "source": [
        "# Loop Starts here\n",
        "End = False\n",
        "while(End != True):\n",
        "  r = requests.get(movie_url)\n",
        "  soup   = bs(r.content,'lxml')\n",
        "  #PAGE \n",
        "  try :\n",
        "    page_link = main + soup.find('a',{'title':'Next'}).get('href')\n",
        "  except:\n",
        "    End = True\n",
        "   \n",
        "\n",
        "  section = soup.find('div',{'class':'block_area-content block_area-list film_list film_list-grid'})\n",
        "  msect   = section.find('div',{'class':'film_list-wrap'})\n",
        "  movies  = msect.find_all('div',{'class','flw-item'})\n",
        "  for i in movies:\n",
        "    try:\n",
        "\n",
        "      dum01        = i.find('h2',{'class':'film-name'}).find_next()\n",
        "      dum02        = i.find('span',{'class','fi-ql'})\n",
        "      contents     =   {\n",
        "        'Name'        : dum01.text.strip(),\n",
        "        'Link'        : main  + dum01.get('href'),\n",
        "        'Quality'     : dum02.text.strip(),\n",
        "        'Year'        : dum02.find_next().text.strip(),\n",
        "        'RunTime'     : i.find('i',{'class':'dot'}).find_next().text.strip(),}\n",
        "      print('[*] %s' %contents['Name'])\n",
        "      MOVIES.append(contents)\n",
        "    except:\n",
        "      print('[*] Skipped')\n",
        "  movie_url = page_link\n",
        "print('[*] Job Done.')"
      ],
      "execution_count": null,
      "outputs": []
    },
    {
      "cell_type": "code",
      "metadata": {
        "id": "-izL4M0MrMN3"
      },
      "source": [
        "# Exporting to DataFrame\n",
        "df = pd.DataFrame(MOVIES)"
      ],
      "execution_count": null,
      "outputs": []
    },
    {
      "cell_type": "code",
      "metadata": {
        "colab": {
          "base_uri": "https://localhost:8080/"
        },
        "id": "0fY2ALkI3x69",
        "outputId": "e6f62e92-dfcf-4f62-c179-2fd1c136811e"
      },
      "source": [
        "list(df[df['Name']=='Cars Without a Home']['Link'])"
      ],
      "execution_count": null,
      "outputs": [
        {
          "output_type": "execute_result",
          "data": {
            "text/plain": [
              "['https://tinyzonetv.to/movie/watch-cars-without-a-home-1959-free-64976']"
            ]
          },
          "metadata": {
            "tags": []
          },
          "execution_count": 67
        }
      ]
    },
    {
      "cell_type": "code",
      "metadata": {
        "colab": {
          "base_uri": "https://localhost:8080/"
        },
        "id": "eWv3BRQW3zI0",
        "outputId": "f66c34d7-278a-4a53-93a8-9de2dd87b719"
      },
      "source": [
        "len(df['Year'].unique())"
      ],
      "execution_count": null,
      "outputs": [
        {
          "output_type": "execute_result",
          "data": {
            "text/plain": [
              "216"
            ]
          },
          "metadata": {
            "tags": []
          },
          "execution_count": 61
        }
      ]
    },
    {
      "cell_type": "code",
      "metadata": {
        "id": "IzpzmQYr4NWJ"
      },
      "source": [
        "#Scraping Description and IMBD rating\n",
        "for i in df['Link']:\n",
        "  r = requests.get(i)\n",
        "  soup   = bs(r.content,'lxml')\n",
        "\n",
        "  section = soup.find('div',{'class':'detail_page-infor border-bottom-block'})\n",
        "\n",
        "  Watch_Link = section.find()\n",
        "\n",
        "\n",
        "\n",
        "  msect   = section.find('div',{'class':'film_list-wrap'})\n",
        "  movies  = msect.find_all('div',{'class','flw-item'})\n",
        "  for i in movies:\n",
        "    try:\n",
        "\n",
        "      dum01        = i.find('h2',{'class':'film-name'}).find_next()\n",
        "      dum02        = i.find('span',{'class','fi-ql'})\n",
        "      contents     =   {\n",
        "        'Name'        : dum01.text.strip(),\n",
        "        'Link'        : main  + dum01.get('href'),\n",
        "        'Quality'     : dum02.text.strip(),\n",
        "        'Year'        : dum02.find_next().text.strip(),\n",
        "        'RunTime'     : i.find('i',{'class':'dot'}).find_next().text.strip(),}\n",
        "      print('[*] %s' %contents['Name'])\n",
        "      MOVIES.append(contents)\n",
        "    except:\n",
        "      print('[*] Skipped')"
      ],
      "execution_count": null,
      "outputs": []
    },
    {
      "cell_type": "code",
      "metadata": {
        "id": "UAkypwoV7z09"
      },
      "source": [
        "INFO = []"
      ],
      "execution_count": null,
      "outputs": []
    },
    {
      "cell_type": "code",
      "metadata": {
        "id": "5cGr3ReX7iBk"
      },
      "source": [
        " for i in df['Link']:\n",
        "  r = requests.get(i)\n",
        "  soup   = bs(r.content,'lxml')\n",
        "\n",
        "  data.clear()\n",
        "\n",
        "  section = soup.find('div',{'class':'detail_page-infor border-bottom-block'})\n",
        "  try:\n",
        "    data        = section.find_all('div',{'class':'row-line'})\n",
        "\n",
        "    info = {\n",
        "    'Watch_Link'  : main + section.find('a',{'title':'Watch now'}).get('href'),\n",
        "    'IMDB-Rating' : section.find('button',{'class':'btn btn-sm btn-warning'}).text.strip(),\n",
        "    'Description' : section.find('div',{'class':'description'}).text.strip(),\n",
        "    'Released'    : data[0].text.strip(),\n",
        "    'Genre'       : [y.text.strip() for y in data[1].find_all()],\n",
        "    'Casts'       : [y.text.strip() for y in data[2].find_all()],\n",
        "    'Country'     : [y.text.strip() for y in data[4].find_all()],\n",
        "    'Production'  : [y.text.strip() for y in data[5].find_all()],\n",
        "    }\n",
        "    INFO.append(info)\n",
        "    print(df[df['Link']==i]['Name'])\n",
        "  except:\n",
        "    print('[*] Skipped%s'%i)\n",
        "#     dum01        = i.find('h2',{'class':'film-name'}).find_next()\n",
        "#     dum02        = i.find('span',{'class','fi-ql'})\n",
        "#     contents     =   {\n",
        "#       'Name'        : dum01.text.strip(),\n",
        "#       'Link'        : main  + dum01.get('href'),\n",
        "#       'Quality'     : dum02.text.strip(),\n",
        "#       'Year'        : dum02.find_next().text.strip(),\n",
        "#       'RunTime'     : i.find('i',{'class':'dot'}).find_next().text.strip(),}\n",
        "#     print('[*] %s' %contents['Name'])\n",
        "#     MOVIES.append(contents)\n",
        "#   except:\n",
        "#     print('[*] Skipped')"
      ],
      "execution_count": null,
      "outputs": []
    },
    {
      "cell_type": "code",
      "metadata": {
        "id": "sBPpuUGj74Ie"
      },
      "source": [
        "info_df = pd.DataFrame(INFO)"
      ],
      "execution_count": null,
      "outputs": []
    },
    {
      "cell_type": "code",
      "metadata": {
        "colab": {
          "base_uri": "https://localhost:8080/",
          "height": 561
        },
        "id": "zSPFEzUi_mX_",
        "outputId": "a9409be4-dae2-46a4-c2d5-43b341a3875c"
      },
      "source": [
        " print(df[df['Link']==i]['Name'][0])"
      ],
      "execution_count": null,
      "outputs": [
        {
          "output_type": "error",
          "ename": "KeyError",
          "evalue": "ignored",
          "traceback": [
            "\u001b[0;31m---------------------------------------------------------------------------\u001b[0m",
            "\u001b[0;31mKeyError\u001b[0m                                  Traceback (most recent call last)",
            "\u001b[0;32m/usr/local/lib/python3.7/dist-packages/pandas/core/indexes/base.py\u001b[0m in \u001b[0;36mget_loc\u001b[0;34m(self, key, method, tolerance)\u001b[0m\n\u001b[1;32m   2897\u001b[0m             \u001b[0;32mtry\u001b[0m\u001b[0;34m:\u001b[0m\u001b[0;34m\u001b[0m\u001b[0;34m\u001b[0m\u001b[0m\n\u001b[0;32m-> 2898\u001b[0;31m                 \u001b[0;32mreturn\u001b[0m \u001b[0mself\u001b[0m\u001b[0;34m.\u001b[0m\u001b[0m_engine\u001b[0m\u001b[0;34m.\u001b[0m\u001b[0mget_loc\u001b[0m\u001b[0;34m(\u001b[0m\u001b[0mcasted_key\u001b[0m\u001b[0;34m)\u001b[0m\u001b[0;34m\u001b[0m\u001b[0;34m\u001b[0m\u001b[0m\n\u001b[0m\u001b[1;32m   2899\u001b[0m             \u001b[0;32mexcept\u001b[0m \u001b[0mKeyError\u001b[0m \u001b[0;32mas\u001b[0m \u001b[0merr\u001b[0m\u001b[0;34m:\u001b[0m\u001b[0;34m\u001b[0m\u001b[0;34m\u001b[0m\u001b[0m\n",
            "\u001b[0;32mpandas/_libs/index.pyx\u001b[0m in \u001b[0;36mpandas._libs.index.IndexEngine.get_loc\u001b[0;34m()\u001b[0m\n",
            "\u001b[0;32mpandas/_libs/index.pyx\u001b[0m in \u001b[0;36mpandas._libs.index.IndexEngine.get_loc\u001b[0;34m()\u001b[0m\n",
            "\u001b[0;32mpandas/_libs/hashtable_class_helper.pxi\u001b[0m in \u001b[0;36mpandas._libs.hashtable.Int64HashTable.get_item\u001b[0;34m()\u001b[0m\n",
            "\u001b[0;32mpandas/_libs/hashtable_class_helper.pxi\u001b[0m in \u001b[0;36mpandas._libs.hashtable.Int64HashTable.get_item\u001b[0;34m()\u001b[0m\n",
            "\u001b[0;31mKeyError\u001b[0m: 0",
            "\nThe above exception was the direct cause of the following exception:\n",
            "\u001b[0;31mKeyError\u001b[0m                                  Traceback (most recent call last)",
            "\u001b[0;32m<ipython-input-100-ce56181bf614>\u001b[0m in \u001b[0;36m<module>\u001b[0;34m()\u001b[0m\n\u001b[0;32m----> 1\u001b[0;31m \u001b[0mprint\u001b[0m\u001b[0;34m(\u001b[0m\u001b[0mdf\u001b[0m\u001b[0;34m[\u001b[0m\u001b[0mdf\u001b[0m\u001b[0;34m[\u001b[0m\u001b[0;34m'Link'\u001b[0m\u001b[0;34m]\u001b[0m\u001b[0;34m==\u001b[0m\u001b[0mi\u001b[0m\u001b[0;34m]\u001b[0m\u001b[0;34m[\u001b[0m\u001b[0;34m'Name'\u001b[0m\u001b[0;34m]\u001b[0m\u001b[0;34m[\u001b[0m\u001b[0;36m0\u001b[0m\u001b[0;34m]\u001b[0m\u001b[0;34m)\u001b[0m\u001b[0;34m\u001b[0m\u001b[0;34m\u001b[0m\u001b[0m\n\u001b[0m",
            "\u001b[0;32m/usr/local/lib/python3.7/dist-packages/pandas/core/series.py\u001b[0m in \u001b[0;36m__getitem__\u001b[0;34m(self, key)\u001b[0m\n\u001b[1;32m    880\u001b[0m \u001b[0;34m\u001b[0m\u001b[0m\n\u001b[1;32m    881\u001b[0m         \u001b[0;32melif\u001b[0m \u001b[0mkey_is_scalar\u001b[0m\u001b[0;34m:\u001b[0m\u001b[0;34m\u001b[0m\u001b[0;34m\u001b[0m\u001b[0m\n\u001b[0;32m--> 882\u001b[0;31m             \u001b[0;32mreturn\u001b[0m \u001b[0mself\u001b[0m\u001b[0;34m.\u001b[0m\u001b[0m_get_value\u001b[0m\u001b[0;34m(\u001b[0m\u001b[0mkey\u001b[0m\u001b[0;34m)\u001b[0m\u001b[0;34m\u001b[0m\u001b[0;34m\u001b[0m\u001b[0m\n\u001b[0m\u001b[1;32m    883\u001b[0m \u001b[0;34m\u001b[0m\u001b[0m\n\u001b[1;32m    884\u001b[0m         \u001b[0;32mif\u001b[0m \u001b[0mis_hashable\u001b[0m\u001b[0;34m(\u001b[0m\u001b[0mkey\u001b[0m\u001b[0;34m)\u001b[0m\u001b[0;34m:\u001b[0m\u001b[0;34m\u001b[0m\u001b[0;34m\u001b[0m\u001b[0m\n",
            "\u001b[0;32m/usr/local/lib/python3.7/dist-packages/pandas/core/series.py\u001b[0m in \u001b[0;36m_get_value\u001b[0;34m(self, label, takeable)\u001b[0m\n\u001b[1;32m    988\u001b[0m \u001b[0;34m\u001b[0m\u001b[0m\n\u001b[1;32m    989\u001b[0m         \u001b[0;31m# Similar to Index.get_value, but we do not fall back to positional\u001b[0m\u001b[0;34m\u001b[0m\u001b[0;34m\u001b[0m\u001b[0;34m\u001b[0m\u001b[0m\n\u001b[0;32m--> 990\u001b[0;31m         \u001b[0mloc\u001b[0m \u001b[0;34m=\u001b[0m \u001b[0mself\u001b[0m\u001b[0;34m.\u001b[0m\u001b[0mindex\u001b[0m\u001b[0;34m.\u001b[0m\u001b[0mget_loc\u001b[0m\u001b[0;34m(\u001b[0m\u001b[0mlabel\u001b[0m\u001b[0;34m)\u001b[0m\u001b[0;34m\u001b[0m\u001b[0;34m\u001b[0m\u001b[0m\n\u001b[0m\u001b[1;32m    991\u001b[0m         \u001b[0;32mreturn\u001b[0m \u001b[0mself\u001b[0m\u001b[0;34m.\u001b[0m\u001b[0mindex\u001b[0m\u001b[0;34m.\u001b[0m\u001b[0m_get_values_for_loc\u001b[0m\u001b[0;34m(\u001b[0m\u001b[0mself\u001b[0m\u001b[0;34m,\u001b[0m \u001b[0mloc\u001b[0m\u001b[0;34m,\u001b[0m \u001b[0mlabel\u001b[0m\u001b[0;34m)\u001b[0m\u001b[0;34m\u001b[0m\u001b[0;34m\u001b[0m\u001b[0m\n\u001b[1;32m    992\u001b[0m \u001b[0;34m\u001b[0m\u001b[0m\n",
            "\u001b[0;32m/usr/local/lib/python3.7/dist-packages/pandas/core/indexes/base.py\u001b[0m in \u001b[0;36mget_loc\u001b[0;34m(self, key, method, tolerance)\u001b[0m\n\u001b[1;32m   2898\u001b[0m                 \u001b[0;32mreturn\u001b[0m \u001b[0mself\u001b[0m\u001b[0;34m.\u001b[0m\u001b[0m_engine\u001b[0m\u001b[0;34m.\u001b[0m\u001b[0mget_loc\u001b[0m\u001b[0;34m(\u001b[0m\u001b[0mcasted_key\u001b[0m\u001b[0;34m)\u001b[0m\u001b[0;34m\u001b[0m\u001b[0;34m\u001b[0m\u001b[0m\n\u001b[1;32m   2899\u001b[0m             \u001b[0;32mexcept\u001b[0m \u001b[0mKeyError\u001b[0m \u001b[0;32mas\u001b[0m \u001b[0merr\u001b[0m\u001b[0;34m:\u001b[0m\u001b[0;34m\u001b[0m\u001b[0;34m\u001b[0m\u001b[0m\n\u001b[0;32m-> 2900\u001b[0;31m                 \u001b[0;32mraise\u001b[0m \u001b[0mKeyError\u001b[0m\u001b[0;34m(\u001b[0m\u001b[0mkey\u001b[0m\u001b[0;34m)\u001b[0m \u001b[0;32mfrom\u001b[0m \u001b[0merr\u001b[0m\u001b[0;34m\u001b[0m\u001b[0;34m\u001b[0m\u001b[0m\n\u001b[0m\u001b[1;32m   2901\u001b[0m \u001b[0;34m\u001b[0m\u001b[0m\n\u001b[1;32m   2902\u001b[0m         \u001b[0;32mif\u001b[0m \u001b[0mtolerance\u001b[0m \u001b[0;32mis\u001b[0m \u001b[0;32mnot\u001b[0m \u001b[0;32mNone\u001b[0m\u001b[0;34m:\u001b[0m\u001b[0;34m\u001b[0m\u001b[0;34m\u001b[0m\u001b[0m\n",
            "\u001b[0;31mKeyError\u001b[0m: 0"
          ]
        }
      ]
    },
    {
      "cell_type": "code",
      "metadata": {
        "colab": {
          "base_uri": "https://localhost:8080/"
        },
        "id": "0VhSOktU_r3r",
        "outputId": "7de744c0-538f-40ac-febd-cdaded6c9d57"
      },
      "source": [
        "print([df[df['Link']==df['Link'][10]]['Name']][0])"
      ],
      "execution_count": null,
      "outputs": [
        {
          "output_type": "stream",
          "text": [
            "10    Her Pen Pal\n",
            "42    Her Pen Pal\n",
            "Name: Name, dtype: object\n"
          ],
          "name": "stdout"
        }
      ]
    },
    {
      "cell_type": "code",
      "metadata": {
        "id": "yltWf1fDD6kA"
      },
      "source": [
        "df.to_csv('tinyzone.csv')"
      ],
      "execution_count": 108,
      "outputs": []
    },
    {
      "cell_type": "code",
      "metadata": {
        "id": "iH854unHNKc5"
      },
      "source": [
        "info_df.to_csv('tinyinfo.csv')"
      ],
      "execution_count": 109,
      "outputs": []
    },
    {
      "cell_type": "code",
      "metadata": {
        "id": "2gzk_LW1NQOK"
      },
      "source": [
        ""
      ],
      "execution_count": null,
      "outputs": []
    }
  ]
}